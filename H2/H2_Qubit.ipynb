{
 "cells": [
  {
   "cell_type": "code",
   "execution_count": 1,
   "id": "ed703ae8",
   "metadata": {},
   "outputs": [],
   "source": [
    "#Calculate the hartree-fock energy \n",
    "from qiskit.algorithms import VQE"
   ]
  },
  {
   "cell_type": "code",
   "execution_count": 14,
   "id": "851c9d0c-ace4-401f-aba8-f55634822348",
   "metadata": {},
   "outputs": [],
   "source": [
    "#H2 molecule\n",
    "from qiskit import Aer \n",
    "from qiskit_nature.second_q.drivers import PySCFDriver\n",
    "from qiskit_nature.converters.second_quantization.qubit_converter import QubitConverter\n",
    "from qiskit_nature.problems.second_quantization.electronic import ElectronicStructureProblem\n",
    "from qiskit_nature.mappers.second_quantization import JordanWignerMapper #https://www.youtube.com/watch?v=43riaeeRDHo\n",
    "#Jordan-Wingner Transformation that maps the spin operators\n",
    "from qiskit_nature.circuit.library import HartreeFock\n",
    "#Hartree-Fock quantum state circuit\n",
    "from qiskit.circuit import Parameter, QuantumCircuit, QuantumRegister"
   ]
  },
  {
   "cell_type": "code",
   "execution_count": 3,
   "id": "c07db89a-11d6-42eb-92d3-b2f7b61edb0b",
   "metadata": {},
   "outputs": [],
   "source": [
    "Tbackend = Aer.get_backend('statevector_simulator')"
   ]
  },
  {
   "cell_type": "code",
   "execution_count": 4,
   "id": "3f0734d2-4f10-491d-bfb8-63a3a0b80474",
   "metadata": {},
   "outputs": [
    {
     "data": {
      "text/plain": [
       "StatevectorSimulator('statevector_simulator')"
      ]
     },
     "execution_count": 4,
     "metadata": {},
     "output_type": "execute_result"
    }
   ],
   "source": [
    "Tbackend"
   ]
  },
  {
   "cell_type": "code",
   "execution_count": 6,
   "id": "29370fb1-a1d5-4a08-8ae1-c98cf46428f7",
   "metadata": {},
   "outputs": [],
   "source": [
    "#loading the molecule\n",
    "H2 = \"H .0 .0 .0; H .0 .0 0.739\"\n",
    "driver = PySCFDriver(atom=H2)\n",
    "qmolecule = driver.run()"
   ]
  },
  {
   "cell_type": "code",
   "execution_count": 7,
   "id": "2dfd2dcb-f45e-4836-8382-69be65b63525",
   "metadata": {},
   "outputs": [],
   "source": [
    "#build the eletronic structure problem \n",
    "problem = ElectronicStructureProblem(driver)"
   ]
  },
  {
   "cell_type": "code",
   "execution_count": 9,
   "id": "9e5f8c80-2df2-4ff6-b39a-2510131c4ed3",
   "metadata": {},
   "outputs": [],
   "source": [
    "#Generate the second-quantized operators \n",
    "second_q_ops = problem.second_q_ops()"
   ]
  },
  {
   "cell_type": "code",
   "execution_count": 10,
   "id": "07447c87-a3e7-4c74-92c7-b09becd75a99",
   "metadata": {},
   "outputs": [],
   "source": [
    "#Hamiltonian\n",
    "main_p = second_q_ops[0]"
   ]
  },
  {
   "cell_type": "code",
   "execution_count": 11,
   "id": "c1a3c480-987c-4dce-92be-e033dd7651e7",
   "metadata": {},
   "outputs": [
    {
     "data": {
      "text/plain": [
       "FermionicOp({'+_0 +_0 -_0 -_0': 0.3374733813038722, '+_0 +_0 -_1 -_1': 0.09057727065586617, '+_0 +_1 -_0 -_1': 0.09057727065586618, '+_0 +_1 -_1 -_0': 0.33194264727624906, '+_0 +_2 -_2 -_0': 0.3374733813038722, '+_0 +_2 -_3 -_1': 0.09057727065586617, '+_0 +_3 -_2 -_1': 0.09057727065586618, '+_0 +_3 -_3 -_0': 0.33194264727624906, '+_1 +_0 -_0 -_1': 0.3319426472762492, '+_1 +_0 -_1 -_0': 0.09057727065586607, '+_1 +_1 -_0 -_0': 0.0905772706558663, '+_1 +_1 -_1 -_1': 0.34891786595173363, '+_1 +_2 -_2 -_1': 0.3319426472762492, '+_1 +_2 -_3 -_0': 0.09057727065586607, '+_1 +_3 -_2 -_0': 0.0905772706558663, '+_1 +_3 -_3 -_1': 0.34891786595173363, '+_2 +_0 -_0 -_2': 0.3374733813038722, '+_2 +_0 -_1 -_3': 0.09057727065586617, '+_2 +_1 -_0 -_3': 0.09057727065586618, '+_2 +_1 -_1 -_2': 0.33194264727624906, '+_2 +_2 -_2 -_2': 0.3374733813038722, '+_2 +_2 -_3 -_3': 0.09057727065586617, '+_2 +_3 -_2 -_3': 0.09057727065586618, '+_2 +_3 -_3 -_2': 0.33194264727624906, '+_3 +_0 -_0 -_3': 0.3319426472762492, '+_3 +_0 -_1 -_2': 0.09057727065586607, '+_3 +_1 -_0 -_2': 0.0905772706558663, '+_3 +_1 -_1 -_3': 0.34891786595173363, '+_3 +_2 -_2 -_3': 0.3319426472762492, '+_3 +_2 -_3 -_2': 0.09057727065586607, '+_3 +_3 -_2 -_2': 0.0905772706558663, '+_3 +_3 -_3 -_3': 0.34891786595173363, '+_0 -_0': -1.2539147570223694, '+_1 -_1': -0.47443809699007766, '+_2 -_2': -1.2539147570223694, '+_3 -_3': -0.47443809699007766}, num_spin_orbitals=4, )"
      ]
     },
     "execution_count": 11,
     "metadata": {},
     "output_type": "execute_result"
    }
   ],
   "source": [
    "main_p"
   ]
  },
  {
   "cell_type": "code",
   "execution_count": 12,
   "id": "b5ed10c8-da08-4e3e-9cd5-63fc2bcf5f83",
   "metadata": {},
   "outputs": [],
   "source": [
    "#Choose some mapping and conver it qubits\n",
    "mapper = JordanWignerMapper()"
   ]
  },
  {
   "cell_type": "code",
   "execution_count": 15,
   "id": "9758a812-fd02-45df-8868-af193a68d2d0",
   "metadata": {},
   "outputs": [],
   "source": [
    "converter = QubitConverter(mapper=mapper)"
   ]
  },
  {
   "cell_type": "code",
   "execution_count": 20,
   "id": "0af143fa-6914-488a-b6fc-d7e29f21449d",
   "metadata": {},
   "outputs": [
    {
     "ename": "AttributeError",
     "evalue": "'NoneType' object has no attribute 'num_alpha'",
     "output_type": "error",
     "traceback": [
      "\u001b[0;31m---------------------------------------------------------------------------\u001b[0m",
      "\u001b[0;31mAttributeError\u001b[0m                            Traceback (most recent call last)",
      "\u001b[0;32m/tmp/ipykernel_801763/209715504.py\u001b[0m in \u001b[0;36m<module>\u001b[0;34m\u001b[0m\n\u001b[1;32m      1\u001b[0m \u001b[0;31m#Fermionic operator\u001b[0m\u001b[0;34m\u001b[0m\u001b[0;34m\u001b[0m\u001b[0;34m\u001b[0m\u001b[0m\n\u001b[0;32m----> 2\u001b[0;31m \u001b[0mnumber_particles\u001b[0m \u001b[0;34m=\u001b[0m \u001b[0;34m(\u001b[0m\u001b[0mproblem\u001b[0m\u001b[0;34m.\u001b[0m\u001b[0mmolecule_data_transformed\u001b[0m\u001b[0;34m.\u001b[0m\u001b[0mnum_alpha\u001b[0m\u001b[0;34m)\u001b[0m\u001b[0;34m\u001b[0m\u001b[0;34m\u001b[0m\u001b[0m\n\u001b[0m",
      "\u001b[0;31mAttributeError\u001b[0m: 'NoneType' object has no attribute 'num_alpha'"
     ]
    }
   ],
   "source": [
    "#Fermionic operator\n",
    "number_particles = (problem.molecule_data.number_particles)"
   ]
  },
  {
   "cell_type": "code",
   "execution_count": null,
   "id": "4c581e1f-7a4a-43a0-9b14-7d56815a7bde",
   "metadata": {},
   "outputs": [],
   "source": []
  },
  {
   "cell_type": "code",
   "execution_count": null,
   "id": "d27a4213-5ce1-4f0b-b857-cd0badaa4f25",
   "metadata": {},
   "outputs": [],
   "source": []
  },
  {
   "cell_type": "code",
   "execution_count": null,
   "id": "d6187bab-ef0d-4189-9b96-0366d9709758",
   "metadata": {},
   "outputs": [],
   "source": []
  },
  {
   "cell_type": "code",
   "execution_count": null,
   "id": "fb84c784-51ab-41b2-9b17-3cf25aa64220",
   "metadata": {},
   "outputs": [],
   "source": []
  }
 ],
 "metadata": {
  "kernelspec": {
   "display_name": "Python 3 (ipykernel)",
   "language": "python",
   "name": "python3"
  },
  "language_info": {
   "codemirror_mode": {
    "name": "ipython",
    "version": 3
   },
   "file_extension": ".py",
   "mimetype": "text/x-python",
   "name": "python",
   "nbconvert_exporter": "python",
   "pygments_lexer": "ipython3",
   "version": "3.7.15"
  }
 },
 "nbformat": 4,
 "nbformat_minor": 5
}
