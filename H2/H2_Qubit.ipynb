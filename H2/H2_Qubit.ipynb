{
 "cells": [
  {
   "cell_type": "code",
   "execution_count": 67,
   "id": "ed703ae8",
   "metadata": {},
   "outputs": [],
   "source": [
    "#Calculate the hartree-fock energy \n",
    "from qiskit.algorithms import VQE"
   ]
  },
  {
   "cell_type": "code",
   "execution_count": 79,
   "id": "851c9d0c-ace4-401f-aba8-f55634822348",
   "metadata": {},
   "outputs": [],
   "source": [
    "#H2 molecule\n",
    "from qiskit import Aer\n",
    "from qiskit_nature.second_q.drivers import PySCFDriver\n",
    "from qiskit_nature.drivers import UnitsType\n",
    "from qiskit_nature.converters.second_quantization.qubit_converter import QubitConverter\n",
    "from qiskit_nature.problems.second_quantization.electronic import ElectronicStructureProblem\n",
    "from qiskit_nature.mappers.second_quantization import JordanWignerMapper #https://www.youtube.com/watch?v=43riaeeRDHo\n",
    "#Jordan-Wingner Transformation that maps the spin operators\n",
    "from qiskit_nature.circuit.library import HartreeFock\n",
    "#Hartree-Fock quantum state circuit\n",
    "from qiskit.circuit import Parameter, QuantumCircuit, QuantumRegister"
   ]
  },
  {
   "cell_type": "code",
   "execution_count": 80,
   "id": "c07db89a-11d6-42eb-92d3-b2f7b61edb0b",
   "metadata": {},
   "outputs": [],
   "source": [
    "Tbackend = Aer.get_backend('statevector_simulator')"
   ]
  },
  {
   "cell_type": "code",
   "execution_count": 81,
   "id": "3f0734d2-4f10-491d-bfb8-63a3a0b80474",
   "metadata": {},
   "outputs": [
    {
     "data": {
      "text/plain": [
       "StatevectorSimulator('statevector_simulator')"
      ]
     },
     "execution_count": 81,
     "metadata": {},
     "output_type": "execute_result"
    }
   ],
   "source": [
    "Tbackend"
   ]
  },
  {
   "cell_type": "code",
   "execution_count": 71,
   "id": "29370fb1-a1d5-4a08-8ae1-c98cf46428f7",
   "metadata": {},
   "outputs": [],
   "source": [
    "#loading the molecule\n",
    "H2 = \"H .0 .0 .0; H .0 .0 0.739\"\n",
    "driver = PySCFDriver(atom=H2,  \n",
    "                     unit=UnitsType.ANGSTROM,\n",
    "                     basis='sto3g')\n",
    "qmolecule = driver.run()\n",
    "#build the eletronic structure problem \n",
    "problem = ElectronicStructureProblem(driver)\n",
    "#Generate the second-quantized operators \n",
    "second_q_ops = problem.second_q_ops()\n",
    "#Hamiltonian\n",
    "main_p = second_q_ops[0]"
   ]
  },
  {
   "cell_type": "code",
   "execution_count": 73,
   "id": "b5ed10c8-da08-4e3e-9cd5-63fc2bcf5f83",
   "metadata": {},
   "outputs": [],
   "source": [
    "#Choose some mapping and conver it qubits\n",
    "mapper = JordanWignerMapper()"
   ]
  },
  {
   "cell_type": "code",
   "execution_count": 74,
   "id": "9758a812-fd02-45df-8868-af193a68d2d0",
   "metadata": {},
   "outputs": [],
   "source": [
    "converter = QubitConverter(mapper=mapper)"
   ]
  },
  {
   "cell_type": "code",
   "execution_count": 118,
   "id": "25a03201-2904-43ea-ad30-0c51c3e3427d",
   "metadata": {},
   "outputs": [
    {
     "ename": "AttributeError",
     "evalue": "'FermionicOp' object has no attribute 'to_list'",
     "output_type": "error",
     "traceback": [
      "\u001b[0;31m---------------------------------------------------------------------------\u001b[0m",
      "\u001b[0;31mAttributeError\u001b[0m                            Traceback (most recent call last)",
      "\u001b[0;32m/tmp/ipykernel_801763/2856528533.py\u001b[0m in \u001b[0;36m<module>\u001b[0;34m\u001b[0m\n\u001b[1;32m      2\u001b[0m num_particles = (problem.grouped_property_transformed.num_alpha,\n\u001b[1;32m      3\u001b[0m                 problem.grouped_property_transformed.num_beta)\n\u001b[0;32m----> 4\u001b[0;31m \u001b[0mqoperador\u001b[0m \u001b[0;34m=\u001b[0m \u001b[0mconverter\u001b[0m\u001b[0;34m.\u001b[0m\u001b[0mconvert\u001b[0m\u001b[0;34m(\u001b[0m\u001b[0mmain_p\u001b[0m\u001b[0;34m,\u001b[0m \u001b[0mnum_particles\u001b[0m\u001b[0;34m=\u001b[0m\u001b[0mnum_particles\u001b[0m\u001b[0;34m)\u001b[0m\u001b[0;34m\u001b[0m\u001b[0;34m\u001b[0m\u001b[0m\n\u001b[0m",
      "\u001b[0;32m~/anaconda3/lib/python3.7/site-packages/qiskit_nature/converters/second_quantization/qubit_converter.py\u001b[0m in \u001b[0;36mconvert\u001b[0;34m(self, second_q_op, num_particles, sector_locator)\u001b[0m\n\u001b[1;32m    177\u001b[0m             \u001b[0mPauliSumOp\u001b[0m \u001b[0mqubit\u001b[0m \u001b[0moperator\u001b[0m\u001b[0;34m\u001b[0m\u001b[0;34m\u001b[0m\u001b[0m\n\u001b[1;32m    178\u001b[0m         \"\"\"\n\u001b[0;32m--> 179\u001b[0;31m         \u001b[0mqubit_op\u001b[0m \u001b[0;34m=\u001b[0m \u001b[0mself\u001b[0m\u001b[0;34m.\u001b[0m\u001b[0m_map\u001b[0m\u001b[0;34m(\u001b[0m\u001b[0msecond_q_op\u001b[0m\u001b[0;34m)\u001b[0m\u001b[0;34m\u001b[0m\u001b[0;34m\u001b[0m\u001b[0m\n\u001b[0m\u001b[1;32m    180\u001b[0m         \u001b[0mreduced_op\u001b[0m \u001b[0;34m=\u001b[0m \u001b[0mself\u001b[0m\u001b[0;34m.\u001b[0m\u001b[0m_two_qubit_reduce\u001b[0m\u001b[0;34m(\u001b[0m\u001b[0mqubit_op\u001b[0m\u001b[0;34m,\u001b[0m \u001b[0mnum_particles\u001b[0m\u001b[0;34m)\u001b[0m\u001b[0;34m\u001b[0m\u001b[0;34m\u001b[0m\u001b[0m\n\u001b[1;32m    181\u001b[0m         \u001b[0mtapered_op\u001b[0m\u001b[0;34m,\u001b[0m \u001b[0mz2symmetries\u001b[0m \u001b[0;34m=\u001b[0m \u001b[0mself\u001b[0m\u001b[0;34m.\u001b[0m\u001b[0m_find_taper_op\u001b[0m\u001b[0;34m(\u001b[0m\u001b[0mreduced_op\u001b[0m\u001b[0;34m,\u001b[0m \u001b[0msector_locator\u001b[0m\u001b[0;34m)\u001b[0m\u001b[0;34m\u001b[0m\u001b[0;34m\u001b[0m\u001b[0m\n",
      "\u001b[0;32m~/anaconda3/lib/python3.7/site-packages/qiskit_nature/converters/second_quantization/qubit_converter.py\u001b[0m in \u001b[0;36m_map\u001b[0;34m(self, second_q_op)\u001b[0m\n\u001b[1;32m    339\u001b[0m \u001b[0;34m\u001b[0m\u001b[0m\n\u001b[1;32m    340\u001b[0m     \u001b[0;32mdef\u001b[0m \u001b[0m_map\u001b[0m\u001b[0;34m(\u001b[0m\u001b[0mself\u001b[0m\u001b[0;34m,\u001b[0m \u001b[0msecond_q_op\u001b[0m\u001b[0;34m:\u001b[0m \u001b[0mSecondQuantizedOp\u001b[0m\u001b[0;34m)\u001b[0m \u001b[0;34m->\u001b[0m \u001b[0mPauliSumOp\u001b[0m\u001b[0;34m:\u001b[0m\u001b[0;34m\u001b[0m\u001b[0;34m\u001b[0m\u001b[0m\n\u001b[0;32m--> 341\u001b[0;31m         \u001b[0;32mreturn\u001b[0m \u001b[0mself\u001b[0m\u001b[0;34m.\u001b[0m\u001b[0m_mapper\u001b[0m\u001b[0;34m.\u001b[0m\u001b[0mmap\u001b[0m\u001b[0;34m(\u001b[0m\u001b[0msecond_q_op\u001b[0m\u001b[0;34m)\u001b[0m\u001b[0;34m\u001b[0m\u001b[0;34m\u001b[0m\u001b[0m\n\u001b[0m\u001b[1;32m    342\u001b[0m \u001b[0;34m\u001b[0m\u001b[0m\n\u001b[1;32m    343\u001b[0m     def _two_qubit_reduce(\n",
      "\u001b[0;32m~/anaconda3/lib/python3.7/site-packages/qiskit_nature/mappers/second_quantization/jordan_wigner_mapper.py\u001b[0m in \u001b[0;36mmap\u001b[0;34m(self, second_q_op)\u001b[0m\n\u001b[1;32m     45\u001b[0m             \u001b[0;31m# TODO add Pauli 3-tuple to lookup table\u001b[0m\u001b[0;34m\u001b[0m\u001b[0;34m\u001b[0m\u001b[0;34m\u001b[0m\u001b[0m\n\u001b[1;32m     46\u001b[0m \u001b[0;34m\u001b[0m\u001b[0m\n\u001b[0;32m---> 47\u001b[0;31m         \u001b[0;32mreturn\u001b[0m \u001b[0mQubitMapper\u001b[0m\u001b[0;34m.\u001b[0m\u001b[0mmode_based_mapping\u001b[0m\u001b[0;34m(\u001b[0m\u001b[0msecond_q_op\u001b[0m\u001b[0;34m,\u001b[0m \u001b[0mpauli_table\u001b[0m\u001b[0;34m)\u001b[0m\u001b[0;34m\u001b[0m\u001b[0;34m\u001b[0m\u001b[0m\n\u001b[0m",
      "\u001b[0;32m~/anaconda3/lib/python3.7/site-packages/qiskit_nature/mappers/second_quantization/qubit_mapper.py\u001b[0m in \u001b[0;36mmode_based_mapping\u001b[0;34m(second_q_op, pauli_table)\u001b[0m\n\u001b[1;32m    120\u001b[0m             \u001b[0msecond_q_op\u001b[0m\u001b[0;34m.\u001b[0m\u001b[0mto_list\u001b[0m\u001b[0;34m(\u001b[0m\u001b[0mdisplay_format\u001b[0m\u001b[0;34m=\u001b[0m\u001b[0;34m\"dense\"\u001b[0m\u001b[0;34m)\u001b[0m\u001b[0;34m\u001b[0m\u001b[0;34m\u001b[0m\u001b[0m\n\u001b[1;32m    121\u001b[0m             \u001b[0;32mif\u001b[0m \u001b[0misinstance\u001b[0m\u001b[0;34m(\u001b[0m\u001b[0msecond_q_op\u001b[0m\u001b[0;34m,\u001b[0m \u001b[0mFermionicOp\u001b[0m\u001b[0;34m)\u001b[0m\u001b[0;34m\u001b[0m\u001b[0;34m\u001b[0m\u001b[0m\n\u001b[0;32m--> 122\u001b[0;31m             \u001b[0;32melse\u001b[0m \u001b[0msecond_q_op\u001b[0m\u001b[0;34m.\u001b[0m\u001b[0mto_list\u001b[0m\u001b[0;34m(\u001b[0m\u001b[0;34m)\u001b[0m\u001b[0;34m\u001b[0m\u001b[0;34m\u001b[0m\u001b[0m\n\u001b[0m\u001b[1;32m    123\u001b[0m         )\n\u001b[1;32m    124\u001b[0m         \u001b[0;32mfor\u001b[0m \u001b[0mlabel\u001b[0m\u001b[0;34m,\u001b[0m \u001b[0mcoeff\u001b[0m \u001b[0;32min\u001b[0m \u001b[0mlabel_coeff_list\u001b[0m\u001b[0;34m:\u001b[0m\u001b[0;34m\u001b[0m\u001b[0;34m\u001b[0m\u001b[0m\n",
      "\u001b[0;31mAttributeError\u001b[0m: 'FermionicOp' object has no attribute 'to_list'"
     ]
    }
   ],
   "source": [
    "#Fermionic operador mapped to qubits operators\n",
    "num_particles = (problem.grouped_property_transformed.num_alpha,\n",
    "                problem.grouped_property_transformed.num_beta)\n",
    "qoperador = converter.convert(main_p, num_particles=num_particles) "
   ]
  },
  {
   "cell_type": "code",
   "execution_count": 112,
   "id": "d27a4213-5ce1-4f0b-b857-cd0badaa4f25",
   "metadata": {},
   "outputs": [],
   "source": [
    "#Create a Hartree-Fock circuit\n",
    "num_particles = (problem.grouped_property_transformed.num_alpha,\n",
    "             problem.grouped_property_transformed.num_beta)\n",
    "\n",
    "num_spin_orbitals = 2 * problem.grouped_property_transformed.num_spin_orbitals\n",
    "init_state = HartreeFock(num_spin_orbitals, num_particles, converter)"
   ]
  },
  {
   "cell_type": "code",
   "execution_count": 113,
   "id": "41686b07-828a-4ac2-8724-3023cf13ff9b",
   "metadata": {},
   "outputs": [
    {
     "data": {
      "text/plain": [
       "(1, 1)"
      ]
     },
     "execution_count": 113,
     "metadata": {},
     "output_type": "execute_result"
    }
   ],
   "source": [
    "num_particles"
   ]
  },
  {
   "cell_type": "code",
   "execution_count": 114,
   "id": "3926ac41-eec2-4955-a3d9-f8bbd2652051",
   "metadata": {},
   "outputs": [
    {
     "data": {
      "text/plain": [
       "8"
      ]
     },
     "execution_count": 114,
     "metadata": {},
     "output_type": "execute_result"
    }
   ],
   "source": [
    "num_spin_orbitals"
   ]
  },
  {
   "cell_type": "code",
   "execution_count": null,
   "id": "fb84c784-51ab-41b2-9b17-3cf25aa64220",
   "metadata": {},
   "outputs": [],
   "source": []
  }
 ],
 "metadata": {
  "kernelspec": {
   "display_name": "Python 3 (ipykernel)",
   "language": "python",
   "name": "python3"
  },
  "language_info": {
   "codemirror_mode": {
    "name": "ipython",
    "version": 3
   },
   "file_extension": ".py",
   "mimetype": "text/x-python",
   "name": "python",
   "nbconvert_exporter": "python",
   "pygments_lexer": "ipython3",
   "version": "3.7.15"
  }
 },
 "nbformat": 4,
 "nbformat_minor": 5
}
