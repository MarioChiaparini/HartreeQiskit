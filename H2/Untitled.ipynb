{
 "cells": [
  {
   "cell_type": "code",
   "execution_count": 11,
   "id": "7ad18132-757e-4056-858d-6a8ecb59052a",
   "metadata": {},
   "outputs": [],
   "source": [
    "from pymatgen.ext.matproj import MPRester\n",
    "import pymatgen.core as mg"
   ]
  },
  {
   "cell_type": "code",
   "execution_count": 12,
   "id": "84c5a8f3-674e-4474-8f0a-05b237cb4a20",
   "metadata": {},
   "outputs": [],
   "source": [
    "API_key = \"IvOq9dlhbzilD1FQkTcCoy20ErmiNLOk\""
   ]
  },
  {
   "cell_type": "code",
   "execution_count": 13,
   "id": "a5a27cb0-c6b5-4822-9120-9c35279abaff",
   "metadata": {},
   "outputs": [],
   "source": [
    "sili = mg.Element('Si')"
   ]
  },
  {
   "cell_type": "code",
   "execution_count": 14,
   "id": "6a59648d-a745-465f-8501-1cfdd604f241",
   "metadata": {},
   "outputs": [
    {
     "data": {
      "text/plain": [
       "Element Si"
      ]
     },
     "execution_count": 14,
     "metadata": {},
     "output_type": "execute_result"
    }
   ],
   "source": [
    "sili"
   ]
  },
  {
   "cell_type": "code",
   "execution_count": 19,
   "id": "f6af7e33-26d9-4355-88b1-09b8ecfa343c",
   "metadata": {},
   "outputs": [],
   "source": [
    "from pymatgen.phonon import dos\n",
    "import pymatgen.phonon.bandstructure as bands\n",
    "import pymatgen.phonon.plotter as plot"
   ]
  },
  {
   "cell_type": "code",
   "execution_count": null,
   "id": "413e687f-9be3-472c-b700-90d294b9538f",
   "metadata": {},
   "outputs": [],
   "source": [
    "dos.PhononDos(frequencies=)"
   ]
  },
  {
   "cell_type": "code",
   "execution_count": null,
   "id": "23c56ae6-d8b4-483b-bd94-8c9f4dceee03",
   "metadata": {},
   "outputs": [],
   "source": []
  }
 ],
 "metadata": {
  "kernelspec": {
   "display_name": "Python 3 (ipykernel)",
   "language": "python",
   "name": "python3"
  },
  "language_info": {
   "codemirror_mode": {
    "name": "ipython",
    "version": 3
   },
   "file_extension": ".py",
   "mimetype": "text/x-python",
   "name": "python",
   "nbconvert_exporter": "python",
   "pygments_lexer": "ipython3",
   "version": "3.7.15"
  }
 },
 "nbformat": 4,
 "nbformat_minor": 5
}
